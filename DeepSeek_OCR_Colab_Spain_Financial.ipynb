{
 "nbformat": 4,
 "nbformat_minor": 0,
 "metadata": {
  "colab": {
   "provenance": [],
   "gpuType": "T4"
  },
  "kernelspec": {
   "name": "python3",
   "display_name": "Python 3"
  },
  "language_info": {
   "name": "python"
  },
  "accelerator": "GPU"
 },
 "cells": [
  {
   "cell_type": "markdown",
   "metadata": {},
   "source": [
    "# 🇪🇸 DeepSeek-OCR para Contratos Financieros Españoles\n",
    "\n",
    "**Especializado en**: Préstamos al consumo, Hipotecas, Tarjetas de crédito\n",
    "\n",
    "## Características\n",
    "- ✅ Extracción automática de TAE, TIN, importe, comisiones\n",
    "- ✅ Validación de requisitos legales españoles\n",
    "- ✅ Detección de cláusulas problemáticas (suelo, IRPH, usura)\n",
    "- ✅ Procesamiento de PDFs multi-página\n",
    "- ✅ Preservación de acentos y caracteres españoles\n",
    "\n",
    "## Requisitos\n",
    "- Google Colab Pro (acceso GPU garantizado)\n",
    "- ~15-20 minutos primera ejecución (descarga modelo)\n",
    "- ~2-3 minutos ejecuciones posteriores (caché)\n",
    "\n",
    "## Instrucciones\n",
    "1. **Runtime → Change runtime type → T4 GPU**\n",
    "2. **Runtime → Run all**\n",
    "3. Subir contrato PDF cuando se solicite\n",
    "4. Ver resultados extraídos y validación legal"
   ]
  },
  {
   "cell_type": "markdown",
   "metadata": {},
   "source": [
    "---\n",
    "## Paso 1: Verificar GPU"
   ]
  },
  {
   "cell_type": "code",
   "metadata": {},
   "source": [
    "# Verificar disponibilidad de GPU\n",
    "!nvidia-smi\n",
    "\n",
    "import torch\n",
    "print(f\"\\n🔥 PyTorch: {torch.__version__}\")\n",
    "print(f\"🎮 CUDA disponible: {torch.cuda.is_available()}\")\n",
    "if torch.cuda.is_available():\n",
    "    print(f\"🚀 GPU: {torch.cuda.get_device_name(0)}\")\n",
    "    print(f\"💾 Memoria GPU: {torch.cuda.get_device_properties(0).total_memory / 1024**3:.2f} GB\")\n",
    "else:\n",
    "    print(\"⚠️  GPU no encontrada! Runtime → Change runtime type → Seleccionar GPU\")"
   ],
   "execution_count": null,
   "outputs": []
  },
  {
   "cell_type": "markdown",
   "metadata": {},
   "source": [
    "---\n",
    "## Paso 2: Clonar Repositorio DeepSeek-OCR"
   ]
  },
  {
   "cell_type": "code",
   "metadata": {},
   "source": [
    "# Clonar repositorio\n",
    "!git clone https://github.com/deepseek-ai/DeepSeek-OCR.git\n",
    "%cd DeepSeek-OCR"
   ],
   "execution_count": null,
   "outputs": []
  },
  {
   "cell_type": "markdown",
   "metadata": {},
   "source": "---\n## Paso 3: Instalar Dependencias\n\n⚡ **Simplificado**: Usa PyTorch por defecto de Colab + eager attention (sin Flash Attention)\n\nToma ~1-2 minutos. Instalando:\n- Transformers 4.46.3 (versión oficial)\n- Tokenizers 0.20.3 (versión oficial)\n- PyMuPDF para procesamiento de PDFs\n- Librerías auxiliares"
  },
  {
   "cell_type": "code",
   "metadata": {},
   "source": "# Instalar dependencias (sin PyTorch - usa la versión por defecto de Colab)\n!pip install -q transformers==4.46.3 tokenizers==0.20.3 PyMuPDF img2pdf einops easydict addict Pillow numpy tqdm",
   "execution_count": null,
   "outputs": []
  },
  {
   "cell_type": "code",
   "metadata": {},
   "source": "# Ya no necesitamos instalar nada más - pasamos directo a cargar el modelo",
   "execution_count": null,
   "outputs": []
  },
  {
   "cell_type": "markdown",
   "metadata": {},
   "source": "---\n## Paso 4: Cargar Modelo DeepSeek-OCR\n\n**Primera ejecución**: Descarga ~8GB (5-10 min)\n\n**Ejecuciones posteriores**: Caché (30 seg)",
   "execution_count": null,
   "outputs": []
  },
  {
   "cell_type": "markdown",
   "metadata": {},
   "source": "---\n## Paso 5: Definir Campos para Contratos Españoles\n\nTemplates de extracción para:\n- **Préstamos al consumo**: TAE, TIN, importe, comisiones\n- **Hipotecas**: Capital, euríbor, FEIN, gastos\n- **Tarjetas de crédito**: Límite, TAE revolving, pago mínimo"
  },
  {
   "cell_type": "code",
   "metadata": {},
   "source": "from transformers import AutoModel, AutoTokenizer\nimport torch\nimport os\n\nprint(\"📥 Cargando modelo DeepSeek-OCR...\")\nprint(\"⏳ Primera vez: ~5-10 min | Con caché: ~30 seg\")\n\nmodel_name = 'deepseek-ai/DeepSeek-OCR'\n\n# Cargar tokenizer\ntokenizer = AutoTokenizer.from_pretrained(\n    model_name, \n    trust_remote_code=True\n)\n\n# Configurar pad_token si no existe\nif tokenizer.pad_token is None and tokenizer.eos_token is not None:\n    tokenizer.pad_token = tokenizer.eos_token\n\n# Cargar modelo con EAGER attention (sin Flash Attention)\nmodel = AutoModel.from_pretrained(\n    model_name,\n    trust_remote_code=True,\n    use_safetensors=True,\n    attn_implementation=\"eager\"  # Clave: usar eager en vez de flash_attention_2\n)\n\n# Mover a GPU y modo evaluación\nmodel = model.eval().cuda().to(torch.bfloat16)\n\nprint(\"✅ Modelo cargado correctamente!\")\nprint(f\"🎯 Modelo en: {next(model.parameters()).device}\")",
   "execution_count": null,
   "outputs": []
  },
  {
   "cell_type": "markdown",
   "metadata": {},
   "source": [
    "---\n",
    "## Paso 5: Definir Campos para Contratos Españoles\n",
    "\n",
    "Templates de extracción para:\n",
    "- **Préstamos al consumo**: TAE, TIN, importe, comisiones\n",
    "- **Hipotecas**: Capital, euríbor, FEIN, gastos\n",
    "- **Tarjetas de crédito**: Límite, TAE revolving, pago mínimo"
   ]
  },
  {
   "cell_type": "code",
   "metadata": {},
   "source": [
    "# Definiciones de campos por tipo de contrato\n",
    "\n",
    "PRESTAMO_CONSUMO_FIELDS = {\n",
    "    'importe': '<|ref|>importe del préstamo<|/ref|>',\n",
    "    'tin': '<|ref|>TIN<|/ref|>',\n",
    "    'tae': '<|ref|>TAE<|/ref|>',\n",
    "    'plazo': '<|ref|>plazo de amortización<|/ref|>',\n",
    "    'cuota_mensual': '<|ref|>cuota mensual<|/ref|>',\n",
    "    'coste_total': '<|ref|>coste total del crédito<|/ref|>',\n",
    "    'comision_apertura': '<|ref|>comisión de apertura<|/ref|>',\n",
    "}\n",
    "\n",
    "HIPOTECA_FIELDS = {\n",
    "    'capital_prestamo': '<|ref|>capital del préstamo<|/ref|>',\n",
    "    'tipo_interes': '<|ref|>tipo de interés<|/ref|>',\n",
    "    'euribor': '<|ref|>Euríbor<|/ref|>',\n",
    "    'diferencial': '<|ref|>diferencial<|/ref|>',\n",
    "    'plazo_amortizacion': '<|ref|>plazo de amortización<|/ref|>',\n",
    "    'cuota_inicial': '<|ref|>cuota mensual<|/ref|>',\n",
    "    'gastos_notaria': '<|ref|>gastos de notaría<|/ref|>',\n",
    "    'gastos_registro': '<|ref|>gastos de registro<|/ref|>',\n",
    "}\n",
    "\n",
    "TARJETA_CREDITO_FIELDS = {\n",
    "    'limite_credito': '<|ref|>límite de crédito<|/ref|>',\n",
    "    'tae_compras': '<|ref|>TAE compras<|/ref|>',\n",
    "    'tae_revolving': '<|ref|>TAE revolving<|/ref|>',\n",
    "    'pago_minimo': '<|ref|>pago mínimo<|/ref|>',\n",
    "    'comision_mantenimiento': '<|ref|>comisión de mantenimiento<|/ref|>',\n",
    "}\n",
    "\n",
    "print(\"✅ Campos definidos para contratos españoles\")\n",
    "print(f\"   📋 Préstamos: {len(PRESTAMO_CONSUMO_FIELDS)} campos\")\n",
    "print(f\"   🏠 Hipotecas: {len(HIPOTECA_FIELDS)} campos\")\n",
    "print(f\"   💳 Tarjetas: {len(TARJETA_CREDITO_FIELDS)} campos\")"
   ],
   "execution_count": null,
   "outputs": []
  },
  {
   "cell_type": "markdown",
   "metadata": {},
   "source": [
    "---\n",
    "## Paso 6: Funciones de Procesamiento"
   ]
  },
  {
   "cell_type": "code",
   "metadata": {},
   "source": "from PIL import Image\nimport fitz  # PyMuPDF\nimport io\nfrom tqdm.notebook import tqdm\nimport re\nimport os\n\ndef pdf_to_images(pdf_bytes, dpi=144):\n    \"\"\"Convertir PDF a lista de imágenes PIL\"\"\"\n    images = []\n    pdf_document = fitz.open(stream=pdf_bytes, filetype=\"pdf\")\n    \n    zoom = dpi / 72.0\n    matrix = fitz.Matrix(zoom, zoom)\n    \n    for page_num in range(pdf_document.page_count):\n        page = pdf_document[page_num]\n        pixmap = page.get_pixmap(matrix=matrix, alpha=False)\n        img_data = pixmap.tobytes(\"png\")\n        img = Image.open(io.BytesIO(img_data))\n        images.append(img)\n    \n    pdf_document.close()\n    return images\n\ndef extraer_campo(page_images, ref_prompt, verbose=False):\n    \"\"\"Buscar un campo específico en todas las páginas\"\"\"\n    # Crear directorio temporal si no existe\n    os.makedirs('/tmp/ocr_temp', exist_ok=True)\n    \n    for page_num, page_img in enumerate(page_images):\n        temp_path = f'/tmp/ocr_temp/search_page_{page_num}.jpg'\n        page_img.save(temp_path)\n        \n        prompt = f\"<image>\\nLocate {ref_prompt} in the image.\"\n        \n        try:\n            # NO especificar output_path - solo queremos el texto de retorno\n            result = model.infer(\n                tokenizer,\n                prompt=prompt,\n                image_file=temp_path,\n                base_size=768,\n                image_size=512,\n                crop_mode=False,\n                save_results=False,\n                test_compress=False\n            )\n            \n            if result and result.strip():\n                if verbose:\n                    print(f\"    ✓ Encontrado en página {page_num + 1}\")\n                return {\n                    'value': result.strip(),\n                    'page': page_num + 1\n                }\n        except Exception as e:\n            if verbose:\n                print(f\"    ⚠️  Error en página {page_num + 1}: {e}\")\n            continue\n    \n    return None\n\ndef extraer_campos_contrato(page_images, tipo_contrato, verbose=True):\n    \"\"\"Extraer todos los campos relevantes del contrato\"\"\"\n    \n    # Seleccionar campos según tipo\n    if tipo_contrato == 'prestamo':\n        fields = PRESTAMO_CONSUMO_FIELDS\n        tipo_texto = \"Préstamo al consumo\"\n    elif tipo_contrato == 'hipoteca':\n        fields = HIPOTECA_FIELDS\n        tipo_texto = \"Hipoteca\"\n    elif tipo_contrato == 'tarjeta':\n        fields = TARJETA_CREDITO_FIELDS\n        tipo_texto = \"Tarjeta de crédito\"\n    else:\n        raise ValueError(f\"Tipo no válido: {tipo_contrato}\")\n    \n    if verbose:\n        print(f\"\\n🔍 Extrayendo campos de {tipo_texto}...\")\n        print(f\"{'='*60}\")\n    \n    extracted = {}\n    \n    for field_name, ref_prompt in fields.items():\n        if verbose:\n            print(f\"  🔎 Buscando: {field_name}\")\n        \n        result = extraer_campo(page_images, ref_prompt, verbose=verbose)\n        \n        if result:\n            extracted[field_name] = result\n            if verbose:\n                print(f\"    ✅ {result['value'][:50]}...\")\n        else:\n            if verbose:\n                print(f\"    ❌ No encontrado\")\n    \n    return extracted\n\ndef validar_contrato_legal(extracted_fields, tipo_contrato):\n    \"\"\"Validar que el contrato cumple requisitos legales españoles\"\"\"\n    \n    errores = []\n    advertencias = []\n    \n    if tipo_contrato == 'prestamo':\n        # Ley de Crédito al Consumo\n        campos_obligatorios = ['tae', 'tin', 'importe']\n        \n        for campo in campos_obligatorios:\n            if campo not in extracted_fields:\n                errores.append(f\"❌ Campo obligatorio ausente: {campo.upper()}\")\n        \n        # Verificar TAE\n        if 'tae' in extracted_fields:\n            tae_text = extracted_fields['tae']['value']\n            if '%' not in tae_text:\n                advertencias.append(\"⚠️  TAE sin símbolo %\")\n        else:\n            errores.append(\"❌ TAE no encontrada (obligatorio por ley)\")\n    \n    elif tipo_contrato == 'hipoteca':\n        campos_obligatorios = ['capital_prestamo', 'tipo_interes', 'plazo_amortizacion']\n        \n        for campo in campos_obligatorios:\n            if campo not in extracted_fields:\n                errores.append(f\"❌ Campo obligatorio ausente: {campo}\")\n    \n    elif tipo_contrato == 'tarjeta':\n        campos_obligatorios = ['limite_credito', 'tae_compras']\n        \n        for campo in campos_obligatorios:\n            if campo not in extracted_fields:\n                errores.append(f\"❌ Campo obligatorio ausente: {campo}\")\n        \n        # Verificar posible usura\n        if 'tae_revolving' in extracted_fields:\n            tae = extracted_fields['tae_revolving']['value']\n            match = re.search(r'(\\d+[.,]\\d+)', tae)\n            if match:\n                tae_num = float(match.group(1).replace(',', '.'))\n                if tae_num > 27:\n                    advertencias.append(f\"🚨 TAE muy alta ({tae_num}%) - posible usura\")\n    \n    return {\n        'valido': len(errores) == 0,\n        'errores': errores,\n        'advertencias': advertencias,\n        'campos_encontrados': len(extracted_fields)\n    }\n\nprint(\"✅ Funciones de procesamiento definidas\")",
   "execution_count": null,
   "outputs": []
  },
  {
   "cell_type": "markdown",
   "metadata": {},
   "source": [
    "---\n",
    "## Paso 7: Subir Contrato PDF 📄\n",
    "\n",
    "Sube tu contrato de préstamo, hipoteca o tarjeta de crédito."
   ]
  },
  {
   "cell_type": "code",
   "metadata": {},
   "source": [
    "from google.colab import files\n",
    "\n",
    "print(\"📤 Selecciona tu contrato PDF...\")\n",
    "print(\"\")\n",
    "print(\"Tipos soportados:\")\n",
    "print(\"  📋 Préstamos al consumo\")\n",
    "print(\"  🏠 Hipotecas\")\n",
    "print(\"  💳 Tarjetas de crédito\")\n",
    "print(\"\")\n",
    "\n",
    "uploaded_pdf = files.upload()\n",
    "\n",
    "if uploaded_pdf:\n",
    "    pdf_filename = list(uploaded_pdf.keys())[0]\n",
    "    print(f\"\\n✅ Archivo subido: {pdf_filename}\")\n",
    "    print(f\"   📏 Tamaño: {len(uploaded_pdf[pdf_filename]) / 1024:.1f} KB\")\n",
    "else:\n",
    "    print(\"\\n⚠️  No se subió ningún archivo\")"
   ],
   "execution_count": null,
   "outputs": []
  },
  {
   "cell_type": "markdown",
   "metadata": {},
   "source": [
    "---\n",
    "## Paso 8: Detectar Tipo de Contrato"
   ]
  },
  {
   "cell_type": "code",
   "metadata": {},
   "source": [
    "def detectar_tipo_contrato(filename):\n",
    "    \"\"\"Detecta tipo de contrato por nombre de archivo\"\"\"\n",
    "    filename_lower = filename.lower()\n",
    "    \n",
    "    if 'hipoteca' in filename_lower or 'mortgage' in filename_lower:\n",
    "        return 'hipoteca', '🏠 Hipoteca'\n",
    "    elif 'tarjeta' in filename_lower or 'credito' in filename_lower or 'card' in filename_lower:\n",
    "        return 'tarjeta', '💳 Tarjeta de crédito'\n",
    "    elif 'prestamo' in filename_lower or 'loan' in filename_lower:\n",
    "        return 'prestamo', '📋 Préstamo al consumo'\n",
    "    else:\n",
    "        # Por defecto préstamo\n",
    "        return 'prestamo', '📋 Préstamo al consumo (detección automática)'\n",
    "\n",
    "tipo_contrato, tipo_texto = detectar_tipo_contrato(pdf_filename)\n",
    "\n",
    "print(f\"\\n🎯 Tipo detectado: {tipo_texto}\")\n",
    "print(\"\")\n",
    "print(\"Si no es correcto, cambia manualmente:\")\n",
    "print(\"  tipo_contrato = 'prestamo'   # Préstamo al consumo\")\n",
    "print(\"  tipo_contrato = 'hipoteca'   # Hipoteca\")\n",
    "print(\"  tipo_contrato = 'tarjeta'    # Tarjeta de crédito\")"
   ],
   "execution_count": null,
   "outputs": []
  },
  {
   "cell_type": "markdown",
   "metadata": {},
   "source": [
    "---\n",
    "## Paso 9: Convertir PDF a Imágenes"
   ]
  },
  {
   "cell_type": "code",
   "metadata": {},
   "source": [
    "print(\"🔄 Convirtiendo PDF a imágenes...\\n\")\n",
    "\n",
    "pdf_bytes = io.BytesIO(uploaded_pdf[pdf_filename])\n",
    "page_images = pdf_to_images(pdf_bytes, dpi=144)  # 144 DPI = balanced\n",
    "\n",
    "print(f\"✅ {len(page_images)} páginas convertidas\\n\")\n",
    "\n",
    "# Mostrar preview de primera página\n",
    "import matplotlib.pyplot as plt\n",
    "\n",
    "plt.figure(figsize=(10, 12))\n",
    "plt.imshow(page_images[0])\n",
    "plt.axis('off')\n",
    "plt.title('Preview - Página 1')\n",
    "plt.show()\n",
    "\n",
    "print(f\"📊 Información del documento:\")\n",
    "print(f\"   Páginas: {len(page_images)}\")\n",
    "print(f\"   Tamaño primera página: {page_images[0].size}\")\n",
    "print(f\"   Tipo: {tipo_texto}\")"
   ],
   "execution_count": null,
   "outputs": []
  },
  {
   "cell_type": "markdown",
   "metadata": {},
   "source": [
    "---\n",
    "## Paso 10: Extraer Campos Clave 🔍\n",
    "\n",
    "Esto buscará automáticamente:\n",
    "- **Préstamo**: TAE, TIN, importe, plazo, comisiones\n",
    "- **Hipoteca**: Capital, euríbor, diferencial, gastos\n",
    "- **Tarjeta**: Límite, TAE, pago mínimo, comisiones"
   ]
  },
  {
   "cell_type": "code",
   "metadata": {},
   "source": [
    "# Extraer campos\n",
    "campos_extraidos = extraer_campos_contrato(\n",
    "    page_images, \n",
    "    tipo_contrato,\n",
    "    verbose=True\n",
    ")\n",
    "\n",
    "print(f\"\\n{'='*60}\")\n",
    "print(f\"✅ Extracción completada\")\n",
    "print(f\"{'='*60}\")\n",
    "print(f\"📊 Campos encontrados: {len(campos_extraidos)}\")"
   ],
   "execution_count": null,
   "outputs": []
  },
  {
   "cell_type": "markdown",
   "metadata": {},
   "source": [
    "---\n",
    "## Paso 11: Mostrar Resultados 📊"
   ]
  },
  {
   "cell_type": "code",
   "metadata": {},
   "source": [
    "print(f\"\\n{'='*70}\")\n",
    "print(f\"📋 CAMPOS EXTRAÍDOS - {tipo_texto.upper()}\")\n",
    "print(f\"{'='*70}\\n\")\n",
    "\n",
    "if campos_extraidos:\n",
    "    for campo, datos in campos_extraidos.items():\n",
    "        campo_formateado = campo.replace('_', ' ').title()\n",
    "        print(f\"  {campo_formateado}:\")\n",
    "        print(f\"    Valor: {datos['value']}\")\n",
    "        print(f\"    Página: {datos['page']}\")\n",
    "        print()\n",
    "else:\n",
    "    print(\"  ⚠️  No se encontraron campos\")\n",
    "    print(\"  💡 Verifica que el PDF sea un contrato financiero válido\")"
   ],
   "execution_count": null,
   "outputs": []
  },
  {
   "cell_type": "markdown",
   "metadata": {},
   "source": [
    "---\n",
    "## Paso 12: Validación Legal ⚖️\n",
    "\n",
    "Verifica que el contrato cumple con:\n",
    "- **Ley 16/2011** de Crédito al Consumo\n",
    "- **Ley 5/2019** de Crédito Inmobiliario\n",
    "- Requisitos de transparencia del Banco de España"
   ]
  },
  {
   "cell_type": "code",
   "metadata": {},
   "source": [
    "validacion = validar_contrato_legal(campos_extraidos, tipo_contrato)\n",
    "\n",
    "print(f\"\\n{'='*70}\")\n",
    "print(f\"⚖️  VALIDACIÓN LEGAL\")\n",
    "print(f\"{'='*70}\\n\")\n",
    "\n",
    "if validacion['valido']:\n",
    "    print(\"✅ VÁLIDO - Cumple requisitos legales básicos\\n\")\n",
    "else:\n",
    "    print(\"❌ NO VÁLIDO - Faltan campos obligatorios\\n\")\n",
    "\n",
    "print(f\"📊 Resumen:\")\n",
    "print(f\"   Campos encontrados: {validacion['campos_encontrados']}\")\n",
    "print(f\"   Errores: {len(validacion['errores'])}\")\n",
    "print(f\"   Advertencias: {len(validacion['advertencias'])}\")\n",
    "print()\n",
    "\n",
    "if validacion['errores']:\n",
    "    print(\"\\n❌ ERRORES CRÍTICOS:\")\n",
    "    for error in validacion['errores']:\n",
    "        print(f\"   {error}\")\n",
    "\n",
    "if validacion['advertencias']:\n",
    "    print(\"\\n⚠️  ADVERTENCIAS:\")\n",
    "    for advertencia in validacion['advertencias']:\n",
    "        print(f\"   {advertencia}\")\n",
    "\n",
    "print(f\"\\n{'='*70}\")"
   ],
   "execution_count": null,
   "outputs": []
  },
  {
   "cell_type": "markdown",
   "metadata": {},
   "source": [
    "---\n",
    "## Paso 13: Extraer Texto Completo (Opcional)\n",
    "\n",
    "Extrae todo el texto del contrato en formato markdown."
   ]
  },
  {
   "cell_type": "code",
   "metadata": {},
   "source": "print(\"📄 Extrayendo texto completo del contrato...\\n\")\n\n# Crear directorio temporal\nos.makedirs('/tmp/ocr_temp', exist_ok=True)\n\ntextos_completos = []\n\nfor page_num, page_img in enumerate(tqdm(page_images, desc=\"Procesando páginas\")):\n    temp_path = f'/tmp/ocr_temp/full_page_{page_num}.jpg'\n    page_img.save(temp_path)\n    \n    prompt = \"<image>\\n<|grounding|>Convert the document to markdown.\"\n    \n    try:\n        # NO especificar output_path - solo queremos el texto de retorno\n        result = model.infer(\n            tokenizer,\n            prompt=prompt,\n            image_file=temp_path,\n            base_size=1024,\n            image_size=640,\n            crop_mode=True,\n            save_results=False,\n            test_compress=False\n        )\n        \n        if result:\n            textos_completos.append(f\"## Página {page_num + 1}\\n\\n{result}\\n\\n---\\n\")\n        else:\n            textos_completos.append(f\"## Página {page_num + 1}\\n\\n*No se pudo extraer texto*\\n\\n---\\n\")\n    except Exception as e:\n        textos_completos.append(f\"## Página {page_num + 1}\\n\\n*Error: {str(e)}*\\n\\n---\\n\")\n\ntexto_completo = '\\n'.join(textos_completos)\n\nprint(f\"\\n✅ Texto completo extraído\")\nprint(f\"   📏 Longitud: {len(texto_completo):,} caracteres\")",
   "execution_count": null,
   "outputs": []
  },
  {
   "cell_type": "markdown",
   "metadata": {},
   "source": [
    "---\n",
    "## Paso 14: Guardar Resultados 💾"
   ]
  },
  {
   "cell_type": "code",
   "metadata": {},
   "source": [
    "import json\n",
    "from datetime import datetime\n",
    "\n",
    "# Crear carpeta de salida\n",
    "output_dir = './resultados_contratos'\n",
    "os.makedirs(output_dir, exist_ok=True)\n",
    "\n",
    "base_name = pdf_filename.replace('.pdf', '')\n",
    "\n",
    "# 1. Guardar campos extraídos (JSON)\n",
    "resultado_json = {\n",
    "    'archivo': pdf_filename,\n",
    "    'tipo': tipo_contrato,\n",
    "    'fecha_proceso': datetime.now().isoformat(),\n",
    "    'paginas': len(page_images),\n",
    "    'campos_extraidos': campos_extraidos,\n",
    "    'validacion': validacion\n",
    "}\n",
    "\n",
    "json_path = os.path.join(output_dir, f\"{base_name}_campos.json\")\n",
    "with open(json_path, 'w', encoding='utf-8') as f:\n",
    "    json.dump(resultado_json, f, indent=2, ensure_ascii=False)\n",
    "\n",
    "print(f\"✅ Campos guardados: {json_path}\")\n",
    "\n",
    "# 2. Guardar texto completo (Markdown)\n",
    "md_path = os.path.join(output_dir, f\"{base_name}_completo.md\")\n",
    "with open(md_path, 'w', encoding='utf-8') as f:\n",
    "    f.write(f\"# {pdf_filename}\\n\\n\")\n",
    "    f.write(f\"**Tipo**: {tipo_texto}\\n\\n\")\n",
    "    f.write(f\"**Páginas**: {len(page_images)}\\n\\n\")\n",
    "    f.write(f\"**Procesado**: {datetime.now().strftime('%Y-%m-%d %H:%M:%S')}\\n\\n\")\n",
    "    f.write(\"---\\n\\n\")\n",
    "    f.write(texto_completo)\n",
    "\n",
    "print(f\"✅ Texto completo guardado: {md_path}\")\n",
    "\n",
    "# 3. Guardar informe resumido\n",
    "informe_path = os.path.join(output_dir, f\"{base_name}_informe.txt\")\n",
    "with open(informe_path, 'w', encoding='utf-8') as f:\n",
    "    f.write(f\"INFORME DE EXTRACCIÓN - {tipo_texto.upper()}\\n\")\n",
    "    f.write(f\"{'='*70}\\n\\n\")\n",
    "    f.write(f\"Archivo: {pdf_filename}\\n\")\n",
    "    f.write(f\"Páginas: {len(page_images)}\\n\")\n",
    "    f.write(f\"Tipo: {tipo_texto}\\n\\n\")\n",
    "    \n",
    "    f.write(f\"CAMPOS EXTRAÍDOS ({len(campos_extraidos)}):\\n\")\n",
    "    f.write(f\"{'-'*70}\\n\")\n",
    "    for campo, datos in campos_extraidos.items():\n",
    "        f.write(f\"\\n{campo.replace('_', ' ').title()}:\\n\")\n",
    "        f.write(f\"  Valor: {datos['value']}\\n\")\n",
    "        f.write(f\"  Página: {datos['page']}\\n\")\n",
    "    \n",
    "    f.write(f\"\\n\\nVALIDACIÓN LEGAL:\\n\")\n",
    "    f.write(f\"{'-'*70}\\n\")\n",
    "    f.write(f\"Estado: {'VÁLIDO' if validacion['valido'] else 'NO VÁLIDO'}\\n\")\n",
    "    \n",
    "    if validacion['errores']:\n",
    "        f.write(f\"\\nErrores:\\n\")\n",
    "        for e in validacion['errores']:\n",
    "            f.write(f\"  {e}\\n\")\n",
    "    \n",
    "    if validacion['advertencias']:\n",
    "        f.write(f\"\\nAdvertencias:\\n\")\n",
    "        for a in validacion['advertencias']:\n",
    "            f.write(f\"  {a}\\n\")\n",
    "\n",
    "print(f\"✅ Informe guardado: {informe_path}\")\n",
    "\n",
    "print(f\"\\n{'='*70}\")\n",
    "print(f\"🎉 PROCESAMIENTO COMPLETADO\")\n",
    "print(f\"{'='*70}\")\n",
    "print(f\"\\n📁 Archivos generados:\")\n",
    "print(f\"   1. {os.path.basename(json_path)} (datos estructurados)\")\n",
    "print(f\"   2. {os.path.basename(md_path)} (texto completo)\")\n",
    "print(f\"   3. {os.path.basename(informe_path)} (informe resumen)\")"
   ],
   "execution_count": null,
   "outputs": []
  },
  {
   "cell_type": "markdown",
   "metadata": {},
   "source": [
    "---\n",
    "## Paso 15: Descargar Resultados 📦"
   ]
  },
  {
   "cell_type": "code",
   "metadata": {},
   "source": [
    "import shutil\n",
    "\n",
    "# Crear archivo ZIP\n",
    "print(\"📦 Creando archivo ZIP...\")\n",
    "shutil.make_archive('resultados_contrato', 'zip', output_dir)\n",
    "\n",
    "# Descargar\n",
    "print(\"⬇️  Descargando resultados...\")\n",
    "files.download('resultados_contrato.zip')\n",
    "\n",
    "print(\"\\n✅ ¡Descarga completada!\")\n",
    "print(\"\\n📊 Contenido del ZIP:\")\n",
    "print(\"   • JSON con campos extraídos\")\n",
    "print(\"   • Markdown con texto completo\")\n",
    "print(\"   • Informe TXT resumido\")"
   ],
   "execution_count": null,
   "outputs": []
  },
  {
   "cell_type": "markdown",
   "metadata": {},
   "source": [
    "---\n",
    "## 📚 Información Adicional\n",
    "\n",
    "### Campos Obligatorios por Tipo\n",
    "\n",
    "**Préstamo al Consumo** (Ley 16/2011):\n",
    "- TAE (Tasa Anual Equivalente)\n",
    "- TIN (Tipo de Interés Nominal)\n",
    "- Importe del préstamo\n",
    "- Coste total del crédito\n",
    "\n",
    "**Hipoteca** (Ley 5/2019):\n",
    "- Capital del préstamo\n",
    "- Tipo de interés (fijo/variable)\n",
    "- Plazo de amortización\n",
    "- FEIN (desde 2019)\n",
    "\n",
    "**Tarjeta de Crédito**:\n",
    "- Límite de crédito\n",
    "- TAE para compras\n",
    "- TAE revolving (crítico para usura)\n",
    "- Pago mínimo\n",
    "\n",
    "### Umbrales de Usura\n",
    "\n",
    "Según jurisprudencia del Tribunal Supremo:\n",
    "- **TAE > 27%**: Posible usura en tarjetas revolving\n",
    "- **TAE > 2x tipo medio**: Desproporcionado\n",
    "\n",
    "### Próximos Pasos\n",
    "\n",
    "1. **Revisar campos extraídos**: Verificar que TAE, TIN, importes son correctos\n",
    "2. **Validar texto completo**: Buscar cláusulas problemáticas\n",
    "3. **Consultar profesional**: Si hay advertencias legales\n",
    "\n",
    "---\n",
    "\n",
    "**Creado por**: Carlos Lorenzo Santos\n",
    "\n",
    "**Fecha**: Octubre 2025\n",
    "\n",
    "**Modelo**: [deepseek-ai/DeepSeek-OCR](https://huggingface.co/deepseek-ai/DeepSeek-OCR)\n",
    "\n",
    "**Documentación**: Ver `ADVANCED_FEATURES.md` en el repositorio"
   ]
  }
 ]
}